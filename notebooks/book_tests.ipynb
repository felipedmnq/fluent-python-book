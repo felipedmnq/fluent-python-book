{
 "cells": [
  {
   "cell_type": "code",
   "execution_count": 6,
   "id": "020e58bf-57c1-4cee-bdba-076eb475b60c",
   "metadata": {},
   "outputs": [],
   "source": [
    "# Imports\n",
    "from typing import List\n",
    "import array\n",
    "import numpy as np\n",
    "import pandas as pd\n",
    "import collections\n"
   ]
  },
  {
   "cell_type": "markdown",
   "id": "47e20627-bda4-4281-864d-5fb7e9979520",
   "metadata": {},
   "source": [
    "### __len__ and__getitem__ to enable slicing"
   ]
  },
  {
   "cell_type": "code",
   "execution_count": 13,
   "id": "ecf09c6b-391d-4d0d-9065-020a3bcc915d",
   "metadata": {},
   "outputs": [],
   "source": [
    "class LenSlicing:\n",
    "    \"\"\"Test the usage of __len__ and __getitem__ to enable slicing of a custom class object\"\"\"\n",
    "    def __init__(self, lst: List) -> None:\n",
    "        self.lst = lst\n",
    "        \n",
    "    def __len__(self) -> int:\n",
    "        return len(self.lst)\n",
    "    \n",
    "    def __getitem__(self, position: int) -> any:\n",
    "        return self.lst[position]"
   ]
  },
  {
   "cell_type": "code",
   "execution_count": 4,
   "id": "90741feb-f8d6-4efe-82ce-9600ae2d776f",
   "metadata": {},
   "outputs": [
    {
     "data": {
      "text/plain": [
       "'b'"
      ]
     },
     "execution_count": 4,
     "metadata": {},
     "output_type": "execute_result"
    }
   ],
   "source": [
    "test = LenSlicing(['a', 'b', 'c'])\n",
    "test[1]"
   ]
  },
  {
   "cell_type": "code",
   "execution_count": 12,
   "id": "98fcc736-dc14-4f05-810b-f0c85398b5c3",
   "metadata": {},
   "outputs": [
    {
     "data": {
      "text/plain": [
       "3"
      ]
     },
     "execution_count": 12,
     "metadata": {},
     "output_type": "execute_result"
    }
   ],
   "source": [
    "len(test)"
   ]
  },
  {
   "cell_type": "markdown",
   "id": "fcda7b39-8620-4eab-91da-001e7e9d29dc",
   "metadata": {},
   "source": [
    "### Walrus operator to save variable in a comprehension"
   ]
  },
  {
   "cell_type": "code",
   "execution_count": 6,
   "id": "303cade4-0dfe-47a0-b3a1-a41052c60629",
   "metadata": {},
   "outputs": [
    {
     "data": {
      "text/plain": [
       "[65, 66, 67]"
      ]
     },
     "execution_count": 6,
     "metadata": {},
     "output_type": "execute_result"
    }
   ],
   "source": [
    "x = 'ABC'\n",
    "\n",
    "codes = [ord(x) for x in x]\n",
    "codes"
   ]
  },
  {
   "cell_type": "code",
   "execution_count": 8,
   "id": "a37ad08e-6b34-497d-9756-e8004f361376",
   "metadata": {},
   "outputs": [
    {
     "data": {
      "text/plain": [
       "[65, 66, 67]"
      ]
     },
     "execution_count": 8,
     "metadata": {},
     "output_type": "execute_result"
    }
   ],
   "source": [
    "codes = [last := ord(_) for _ in x]\n",
    "codes"
   ]
  },
  {
   "cell_type": "code",
   "execution_count": 9,
   "id": "656daa90-bfff-48ba-a18f-1c7547f23390",
   "metadata": {},
   "outputs": [
    {
     "data": {
      "text/plain": [
       "67"
      ]
     },
     "execution_count": 9,
     "metadata": {},
     "output_type": "execute_result"
    }
   ],
   "source": [
    "last"
   ]
  },
  {
   "cell_type": "markdown",
   "id": "769267eb-fe9f-4036-824a-68ad582a96be",
   "metadata": {},
   "source": [
    "### Listcomps X map() and filter()"
   ]
  },
  {
   "cell_type": "code",
   "execution_count": 16,
   "id": "f9ab9a29-8f44-4b20-9831-e598dec6aa36",
   "metadata": {},
   "outputs": [
    {
     "data": {
      "text/plain": [
       "[90, 88, 89, 74]"
      ]
     },
     "execution_count": 16,
     "metadata": {},
     "output_type": "execute_result"
    }
   ],
   "source": [
    "x = 'ABCZXYJ'\n",
    "\n",
    "listcomp = [last := ord(_) for _ in x if ord(_) > 67]\n",
    "listcomp"
   ]
  },
  {
   "cell_type": "code",
   "execution_count": 17,
   "id": "f7459628-033d-4dbe-b898-d5965d1b44e6",
   "metadata": {},
   "outputs": [
    {
     "data": {
      "text/plain": [
       "[90, 88, 89, 74]"
      ]
     },
     "execution_count": 17,
     "metadata": {},
     "output_type": "execute_result"
    }
   ],
   "source": [
    "map_filter = list(filter(lambda _: _ > 67, map(ord, x)))\n",
    "map_filter"
   ]
  },
  {
   "cell_type": "markdown",
   "id": "582f53c4-a9b9-4eed-b6ac-5a5a60fa0929",
   "metadata": {},
   "source": [
    "### Cartesian products with listcomps\n",
    "\n",
    "* Listcomps cam build lists from the cartesian product of two or more iterables. \n",
    "* The itens will be stored in tuples made from itens from every input iterable.\n",
    "* The resulting list will has the lenght equal to the lenghts of the input iterables multiplied."
   ]
  },
  {
   "cell_type": "code",
   "execution_count": 25,
   "id": "e4e7514e-9784-4aec-b892-78f56a7b2ea8",
   "metadata": {},
   "outputs": [
    {
     "data": {
      "text/plain": [
       "[('black', 'XS'),\n",
       " ('black', 'S'),\n",
       " ('black', 'M'),\n",
       " ('black', 'L'),\n",
       " ('black', 'XL'),\n",
       " ('white', 'XS'),\n",
       " ('white', 'S'),\n",
       " ('white', 'M'),\n",
       " ('white', 'L'),\n",
       " ('white', 'XL'),\n",
       " ('green', 'XS'),\n",
       " ('green', 'S'),\n",
       " ('green', 'M'),\n",
       " ('green', 'L'),\n",
       " ('green', 'XL'),\n",
       " ('gray', 'XS'),\n",
       " ('gray', 'S'),\n",
       " ('gray', 'M'),\n",
       " ('gray', 'L'),\n",
       " ('gray', 'XL')]"
      ]
     },
     "execution_count": 25,
     "metadata": {},
     "output_type": "execute_result"
    }
   ],
   "source": [
    "colors = [\"black\", \"white\", \"green\", \"gray\"]\n",
    "sizes = [\"xs\", \"s\", \"m\", \"l\", \"xl\"]\n",
    "\n",
    "colors_plus_size = [\n",
    "    (color, size.upper()) for color in colors for size in sizes\n",
    "]\n",
    "colors_plus_size"
   ]
  },
  {
   "cell_type": "markdown",
   "id": "7c0cb313-729a-41cf-97f8-eaa8fce69e14",
   "metadata": {},
   "source": [
    "### Generator expressions\n",
    "\n",
    "* To initialize tuples, arrays, and other types of sequences, you could also start from a listcomp, but a genexp (Generator Expression) saves memory because it yields items one by one using the iterator protocol instead of building a whole list just to feed another constructor.\n",
    "* Genexp uses the same syntax as listcomps, but are neclosed in parentheses rather than brackets.\n",
    "* The genexp does not build the objects in memory, the genexp feeds the for loop producting one item at a time.\n",
    "* For the tshirts example, if the two lists used in the cartesian product had a thousend items each, using a GENERATOR EXPRESSION would save the cost of building a list with A MILLION items just to feed the for loop."
   ]
  },
  {
   "cell_type": "code",
   "execution_count": 32,
   "id": "993b49c1-c255-40f0-b164-8d2b6f80036f",
   "metadata": {},
   "outputs": [
    {
     "data": {
      "text/plain": [
       "(65, 66, 67, 90, 88, 89, 74)"
      ]
     },
     "execution_count": 32,
     "metadata": {},
     "output_type": "execute_result"
    }
   ],
   "source": [
    "# genexp tuple\n",
    "\n",
    "x = 'ABCZXYJ'\n",
    "\n",
    "genexp_tuple = tuple(ord(_) for _ in x)\n",
    "genexp_tuple"
   ]
  },
  {
   "cell_type": "code",
   "execution_count": 34,
   "id": "16542293-0f17-46b0-8286-f106d1ed0c39",
   "metadata": {},
   "outputs": [
    {
     "data": {
      "text/plain": [
       "array('I', [65, 66, 67, 90, 88, 89, 74])"
      ]
     },
     "execution_count": 34,
     "metadata": {},
     "output_type": "execute_result"
    }
   ],
   "source": [
    "# genexp array\n",
    "\n",
    "genexp_array = array.array(\"I\", (ord(_) for _ in x))\n",
    "genexp_array\n",
    "\n",
    "# array.array takes two arguments, the first element refers to the storage type \"I\"\n",
    "\"\"\"\n",
    "Type code   C Type             Minimum size in bytes\n",
    "    'b'         signed integer     1\n",
    "    'B'         unsigned integer   1\n",
    "    'u'         Unicode character  2 (see note)\n",
    "    'h'         signed integer     2\n",
    "    'H'         unsigned integer   2\n",
    "    'i'         signed integer     2\n",
    "    'I'         unsigned integer   2\n",
    "    'l'         signed integer     4\n",
    "    'L'         unsigned integer   4\n",
    "    'q'         signed integer     8 (see note)\n",
    "    'Q'         unsigned integer   8 (see note)\n",
    "    'f'         floating point     4\n",
    "    'd'         floating point     8\n",
    "\"\"\""
   ]
  },
  {
   "cell_type": "code",
   "execution_count": 35,
   "id": "624345b1-ed2f-4aaf-8081-ac0be6343a70",
   "metadata": {},
   "outputs": [
    {
     "data": {
      "text/plain": [
       "[('black', 'S'),\n",
       " ('black', 'M'),\n",
       " ('black', 'L'),\n",
       " ('white', 'S'),\n",
       " ('white', 'M'),\n",
       " ('white', 'L'),\n",
       " ('green', 'S'),\n",
       " ('green', 'M'),\n",
       " ('green', 'L')]"
      ]
     },
     "execution_count": 35,
     "metadata": {},
     "output_type": "execute_result"
    }
   ],
   "source": [
    "colors = [\"black\", \"white\", \"green\"]\n",
    "sizes = [\"s\", \"m\", \"l\"]\n",
    "\n",
    "colors_plus_size = [\n",
    "    (color, size.upper()) for color in colors for size in sizes\n",
    "]\n",
    "colors_plus_size"
   ]
  },
  {
   "cell_type": "code",
   "execution_count": 41,
   "id": "57ac42bc-f13f-49af-a2ca-c0706953bea3",
   "metadata": {},
   "outputs": [
    {
     "name": "stdout",
     "output_type": "stream",
     "text": [
      "black, S\n",
      "black, M\n",
      "black, L\n",
      "white, S\n",
      "white, M\n",
      "white, L\n",
      "green, S\n",
      "green, M\n",
      "green, L\n"
     ]
    }
   ],
   "source": [
    "for tshirt in (f\"{c}, {s.upper()}\" for c in colors for s in sizes):\n",
    "    print(tshirt)\n",
    "    \n",
    "# The generator expression yields items one by one; a list with all tshirts variations is never produced in this example.\n",
    "# Here the idea is to use generator expressions to produce outputs that you don't need to keep in memory. "
   ]
  },
  {
   "cell_type": "markdown",
   "id": "99f63e1a-377d-4b33-9e1b-8c09f8759ae2",
   "metadata": {},
   "source": [
    "### Tuples unpacking - iterable unpacking"
   ]
  },
  {
   "cell_type": "markdown",
   "id": "3b8f9f3b-5a01-4c46-bb60-eb6640ef108f",
   "metadata": {},
   "source": [
    "* Each element in the tuple is being assigned to a variable."
   ]
  },
  {
   "cell_type": "code",
   "execution_count": 43,
   "id": "1db6d966-836b-47a7-b5ca-ec67f9b960d0",
   "metadata": {},
   "outputs": [
    {
     "data": {
      "text/plain": [
       "'Tokio'"
      ]
     },
     "metadata": {},
     "output_type": "display_data"
    },
    {
     "data": {
      "text/plain": [
       "2023"
      ]
     },
     "metadata": {},
     "output_type": "display_data"
    },
    {
     "data": {
      "text/plain": [
       "32450000"
      ]
     },
     "metadata": {},
     "output_type": "display_data"
    },
    {
     "data": {
      "text/plain": [
       "8014"
      ]
     },
     "metadata": {},
     "output_type": "display_data"
    }
   ],
   "source": [
    "city, year, population, area = (\"Tokio\", 2023, 32_450_000, 8014)\n",
    "\n",
    "display(city)\n",
    "display(year)\n",
    "display(population)\n",
    "display(area)"
   ]
  },
  {
   "cell_type": "markdown",
   "id": "1c2255a7-00f6-4255-ad18-762d7de982be",
   "metadata": {},
   "source": [
    "* The % formatting operator understands tuples and treats each item as a separate field."
   ]
  },
  {
   "cell_type": "code",
   "execution_count": 47,
   "id": "1bc8626c-cc2d-4184-9865-d6bee1981591",
   "metadata": {},
   "outputs": [
    {
     "name": "stdout",
     "output_type": "stream",
     "text": [
      "BRA/CE12345 - 2\n",
      "GER/DE32154 - 3\n",
      "USA/319221 - 1\n"
     ]
    }
   ],
   "source": [
    "traveler_ids = [(\"USA\", \"319221\", 1), (\"BRA\", \"CE12345\", 2), (\"GER\", \"DE32154\", 3)]\n",
    "\n",
    "for passport in sorted(traveler_ids):\n",
    "    print(\"%s/%s - %i\" % passport)"
   ]
  },
  {
   "cell_type": "markdown",
   "id": "2c2c592d-7c4b-438f-8b91-0b4096096500",
   "metadata": {},
   "source": [
    "### Tuple as immutable list"
   ]
  },
  {
   "cell_type": "code",
   "execution_count": 48,
   "id": "5e110b72-a6dc-4033-aa67-90c925fd584e",
   "metadata": {},
   "outputs": [
    {
     "data": {
      "text/plain": [
       "True"
      ]
     },
     "execution_count": 48,
     "metadata": {},
     "output_type": "execute_result"
    }
   ],
   "source": [
    "a = (10, \"alpha\", [1, 2])\n",
    "b = (10, \"alpha\", [1, 2])\n",
    "\n",
    "a == b"
   ]
  },
  {
   "cell_type": "code",
   "execution_count": 49,
   "id": "4b70dd95-5c13-489f-994a-09e501ae5043",
   "metadata": {},
   "outputs": [
    {
     "data": {
      "text/plain": [
       "(10, 'alpha', [1, 2, 99])"
      ]
     },
     "metadata": {},
     "output_type": "display_data"
    },
    {
     "data": {
      "text/plain": [
       "False"
      ]
     },
     "execution_count": 49,
     "metadata": {},
     "output_type": "execute_result"
    }
   ],
   "source": [
    "b[-1].append(99)\n",
    "display(b)\n",
    "\n",
    "a == b"
   ]
  },
  {
   "cell_type": "markdown",
   "id": "aba1cd25-5879-4bf1-8e70-d10e28cdc170",
   "metadata": {},
   "source": [
    "### Using * to grab excess items"
   ]
  },
  {
   "cell_type": "code",
   "execution_count": 50,
   "id": "606af584-ba77-4ff0-89a9-6184e4a2759d",
   "metadata": {},
   "outputs": [
    {
     "data": {
      "text/plain": [
       "0"
      ]
     },
     "metadata": {},
     "output_type": "display_data"
    },
    {
     "data": {
      "text/plain": [
       "1"
      ]
     },
     "metadata": {},
     "output_type": "display_data"
    },
    {
     "data": {
      "text/plain": [
       "[2, 3, 4]"
      ]
     },
     "metadata": {},
     "output_type": "display_data"
    }
   ],
   "source": [
    "a, b, *rest = range(5)\n",
    "\n",
    "display(a)\n",
    "display(b)\n",
    "display(rest)"
   ]
  },
  {
   "cell_type": "code",
   "execution_count": 51,
   "id": "01e54381-94cf-408d-a2c7-4f8c79e49f7b",
   "metadata": {},
   "outputs": [
    {
     "data": {
      "text/plain": [
       "0"
      ]
     },
     "metadata": {},
     "output_type": "display_data"
    },
    {
     "data": {
      "text/plain": [
       "1"
      ]
     },
     "metadata": {},
     "output_type": "display_data"
    },
    {
     "data": {
      "text/plain": [
       "[]"
      ]
     },
     "metadata": {},
     "output_type": "display_data"
    }
   ],
   "source": [
    "a, b, *rest = range(2)\n",
    "\n",
    "display(a)\n",
    "display(b)\n",
    "display(rest)"
   ]
  },
  {
   "cell_type": "code",
   "execution_count": 52,
   "id": "7c06dd63-51e8-4e3d-9874-15a882020ebe",
   "metadata": {},
   "outputs": [
    {
     "data": {
      "text/plain": [
       "0"
      ]
     },
     "metadata": {},
     "output_type": "display_data"
    },
    {
     "data": {
      "text/plain": [
       "[1, 2]"
      ]
     },
     "metadata": {},
     "output_type": "display_data"
    },
    {
     "data": {
      "text/plain": [
       "3"
      ]
     },
     "metadata": {},
     "output_type": "display_data"
    },
    {
     "data": {
      "text/plain": [
       "4"
      ]
     },
     "metadata": {},
     "output_type": "display_data"
    }
   ],
   "source": [
    "a, *body, c, d = range(5)\n",
    "\n",
    "display(a)\n",
    "display(body)\n",
    "display(c)\n",
    "display(d)"
   ]
  },
  {
   "cell_type": "code",
   "execution_count": 53,
   "id": "ef7904d9-b4ee-4629-abe0-0ea5f9d23e96",
   "metadata": {},
   "outputs": [
    {
     "data": {
      "text/plain": [
       "[0, 1]"
      ]
     },
     "metadata": {},
     "output_type": "display_data"
    },
    {
     "data": {
      "text/plain": [
       "2"
      ]
     },
     "metadata": {},
     "output_type": "display_data"
    },
    {
     "data": {
      "text/plain": [
       "3"
      ]
     },
     "metadata": {},
     "output_type": "display_data"
    },
    {
     "data": {
      "text/plain": [
       "4"
      ]
     },
     "metadata": {},
     "output_type": "display_data"
    }
   ],
   "source": [
    "*head, b, c, d = range(5)\n",
    "\n",
    "display(head)\n",
    "display(b)\n",
    "display(c)\n",
    "display(d)"
   ]
  },
  {
   "cell_type": "code",
   "execution_count": 62,
   "id": "648d432a-daba-4f69-9c6c-2ce91b532156",
   "metadata": {},
   "outputs": [
    {
     "data": {
      "text/plain": [
       "(0, 1, 2, 3, 4)"
      ]
     },
     "execution_count": 62,
     "metadata": {},
     "output_type": "execute_result"
    }
   ],
   "source": [
    "a = *range(4), 4\n",
    "a"
   ]
  },
  {
   "cell_type": "code",
   "execution_count": 63,
   "id": "d842df08-25ad-488c-804f-7d58f96507e7",
   "metadata": {},
   "outputs": [
    {
     "data": {
      "text/plain": [
       "tuple"
      ]
     },
     "execution_count": 63,
     "metadata": {},
     "output_type": "execute_result"
    }
   ],
   "source": [
    "type(a)"
   ]
  },
  {
   "cell_type": "code",
   "execution_count": 55,
   "id": "fb767e21-ce5d-4b00-9fef-44553d4cd342",
   "metadata": {},
   "outputs": [
    {
     "data": {
      "text/plain": [
       "[0, 1, 2, 3, 4]"
      ]
     },
     "execution_count": 55,
     "metadata": {},
     "output_type": "execute_result"
    }
   ],
   "source": [
    "[*range(4), 4]"
   ]
  },
  {
   "cell_type": "code",
   "execution_count": 56,
   "id": "fcd5a23c-4243-4461-95ac-14128c3a7010",
   "metadata": {},
   "outputs": [
    {
     "data": {
      "text/plain": [
       "{0, 1, 2, 3, 4, 5, 6, 7}"
      ]
     },
     "execution_count": 56,
     "metadata": {},
     "output_type": "execute_result"
    }
   ],
   "source": [
    "{*range(4), 4, *(5, 6, 7)}"
   ]
  },
  {
   "cell_type": "code",
   "execution_count": 65,
   "id": "f9eb7d22-c341-4a28-89bd-5c816d159908",
   "metadata": {},
   "outputs": [
    {
     "name": "stdout",
     "output_type": "stream",
     "text": [
      "0 - 1\n"
     ]
    }
   ],
   "source": [
    "a, b, *_ = range(4)\n",
    "print(f\"{a} - {b}\")"
   ]
  },
  {
   "cell_type": "code",
   "execution_count": 57,
   "id": "3b91f13b-b003-4189-8212-a36e5c486b8d",
   "metadata": {},
   "outputs": [],
   "source": [
    "metro_areas = [\n",
    "    ('Tokyo', 'JP', 36.933, (35.689722, 139.691667)),\n",
    "    ('Delhi NCR', 'IN', 21.935, (28.613889, 77.208889)),\n",
    "    ('Mexico City', 'MX', 20.142, (19.433333, -99.133333)),\n",
    "    ('New York-Newark', 'US', 20.104, (40.808611, -74.020386)),\n",
    "    ('São Paulo', 'BR', 19.649, (-23.547778, -46.635833)),\n",
    "]"
   ]
  },
  {
   "cell_type": "code",
   "execution_count": 59,
   "id": "c5b0ba2d-4db1-4f6e-8a1b-9106fd472f8f",
   "metadata": {},
   "outputs": [],
   "source": [
    "def match_lat_lon():from platform import python_version\n",
    "    print(f'{\"\":15} | {\"latitude\":>9} | {\"longitude\":>9}')\n",
    "    for name, _, _, (lat, lon) in metro_areas:\n",
    "        if lon<= 0:\n",
    "            print(f'{name:15} | {lat:9.4f} | {lon:9.4f}')"
   ]
  },
  {
   "cell_type": "code",
   "execution_count": 60,
   "id": "a662fc21-57ec-42fc-93df-8f5b4d98cc67",
   "metadata": {},
   "outputs": [
    {
     "name": "stdout",
     "output_type": "stream",
     "text": [
      "                |  latitude | longitude\n",
      "Mexico City     |   19.4333 |  -99.1333\n",
      "New York-Newark |   40.8086 |  -74.0204\n",
      "São Paulo       |  -23.5478 |  -46.6358\n"
     ]
    }
   ],
   "source": [
    "match_lat_lon()"
   ]
  },
  {
   "cell_type": "markdown",
   "id": "a2f31c9a-887f-49e2-87fc-cef7e823f9c9",
   "metadata": {},
   "source": [
    "### MATCH/CASE"
   ]
  },
  {
   "cell_type": "code",
   "execution_count": 9,
   "id": "c010581c-386f-4526-9116-c2b5e80ed284",
   "metadata": {},
   "outputs": [],
   "source": [
    "def calculate_bonus(performance: str) -> int:\n",
    "    bonus = 0\n",
    "    match performance:\n",
    "        case \"excellent\":\n",
    "            bonus = 1000\n",
    "        case \"good\":\n",
    "            bonus = 500\n",
    "        case \"poor\":\n",
    "            bonus = 0\n",
    "        case _: # default value\n",
    "            bonus = -1\n",
    "\n",
    "    return bonus"
   ]
  },
  {
   "cell_type": "code",
   "execution_count": 10,
   "id": "2b3ce610-9d99-49e6-9bdd-fa6018d11fda",
   "metadata": {},
   "outputs": [
    {
     "data": {
      "text/plain": [
       "1000"
      ]
     },
     "execution_count": 10,
     "metadata": {},
     "output_type": "execute_result"
    }
   ],
   "source": [
    "calculate_bonus(\"excellent\")"
   ]
  },
  {
   "cell_type": "code",
   "execution_count": 11,
   "id": "2ecbf170-3207-4a6e-a6b0-83696b6d324d",
   "metadata": {},
   "outputs": [
    {
     "data": {
      "text/plain": [
       "-1"
      ]
     },
     "execution_count": 11,
     "metadata": {},
     "output_type": "execute_result"
    }
   ],
   "source": [
    "calculate_bonus(\"test\")"
   ]
  },
  {
   "cell_type": "markdown",
   "id": "6ef6efc9-4ba0-4ac2-b2f7-60341e1b4803",
   "metadata": {},
   "source": [
    "### Difference between list.sort() and sorted(list)"
   ]
  },
  {
   "cell_type": "code",
   "execution_count": 16,
   "id": "bc4477f4-d367-4480-96f3-258411f92b4d",
   "metadata": {},
   "outputs": [],
   "source": [
    "fruits = [\"grape\", \"raspbarry\", \"apple\", \"banana\"]"
   ]
  },
  {
   "cell_type": "code",
   "execution_count": 17,
   "id": "85722ff7-fbef-476e-bb03-d205b1cac044",
   "metadata": {},
   "outputs": [
    {
     "data": {
      "text/plain": [
       "['apple', 'banana', 'grape', 'raspbarry']"
      ]
     },
     "execution_count": 17,
     "metadata": {},
     "output_type": "execute_result"
    }
   ],
   "source": [
    "sorted(fruits)"
   ]
  },
  {
   "cell_type": "code",
   "execution_count": 18,
   "id": "b4020fb1-e054-4ceb-8962-c129efb88c8d",
   "metadata": {},
   "outputs": [
    {
     "data": {
      "text/plain": [
       "['grape', 'raspbarry', 'apple', 'banana']"
      ]
     },
     "execution_count": 18,
     "metadata": {},
     "output_type": "execute_result"
    }
   ],
   "source": [
    "fruits"
   ]
  },
  {
   "cell_type": "code",
   "execution_count": 23,
   "id": "a0f60364-25f0-4923-aeab-7c9a9cf636d5",
   "metadata": {},
   "outputs": [
    {
     "data": {
      "text/plain": [
       "['raspbarry', 'grape', 'banana', 'apple']"
      ]
     },
     "execution_count": 23,
     "metadata": {},
     "output_type": "execute_result"
    }
   ],
   "source": [
    "sorted(fruits, reverse=True)"
   ]
  },
  {
   "cell_type": "code",
   "execution_count": 24,
   "id": "0bcfba5c-af19-49ad-b8f6-21e736cbfdce",
   "metadata": {},
   "outputs": [
    {
     "data": {
      "text/plain": [
       "['grape', 'apple', 'banana', 'raspbarry']"
      ]
     },
     "execution_count": 24,
     "metadata": {},
     "output_type": "execute_result"
    }
   ],
   "source": [
    "sorted(fruits, key=len)"
   ]
  },
  {
   "cell_type": "code",
   "execution_count": 26,
   "id": "0590f1f3-f1bb-479b-9249-b3b5ce81e4ba",
   "metadata": {},
   "outputs": [
    {
     "data": {
      "text/plain": [
       "['banana', 'apple', 'grape', 'raspbarry']"
      ]
     },
     "execution_count": 26,
     "metadata": {},
     "output_type": "execute_result"
    }
   ],
   "source": [
    "sorted(fruits, key=max)"
   ]
  },
  {
   "cell_type": "code",
   "execution_count": 28,
   "id": "231dedc1-3e33-4646-9f06-aeaec231e2b8",
   "metadata": {},
   "outputs": [
    {
     "data": {
      "text/plain": [
       "['grape', 'raspbarry', 'apple', 'banana']"
      ]
     },
     "execution_count": 28,
     "metadata": {},
     "output_type": "execute_result"
    }
   ],
   "source": [
    "sorted(fruits, key=min, reverse=True)"
   ]
  },
  {
   "cell_type": "code",
   "execution_count": 29,
   "id": "3d598192-5c55-43c4-8862-abae1e598022",
   "metadata": {},
   "outputs": [
    {
     "data": {
      "text/plain": [
       "['raspbarry', 'grape', 'banana', 'apple']"
      ]
     },
     "execution_count": 29,
     "metadata": {},
     "output_type": "execute_result"
    }
   ],
   "source": [
    "sorted(fruits, key=str.lower, reverse=True)"
   ]
  },
  {
   "cell_type": "code",
   "execution_count": 30,
   "id": "12017661-6ff4-4e08-9375-bc6c9fbc3fcc",
   "metadata": {},
   "outputs": [],
   "source": [
    "fruits.sort()"
   ]
  },
  {
   "cell_type": "code",
   "execution_count": 31,
   "id": "31bf2602-52bf-4d66-a64c-be173db25bb0",
   "metadata": {},
   "outputs": [
    {
     "data": {
      "text/plain": [
       "['apple', 'banana', 'grape', 'raspbarry']"
      ]
     },
     "execution_count": 31,
     "metadata": {},
     "output_type": "execute_result"
    }
   ],
   "source": [
    "fruits"
   ]
  },
  {
   "cell_type": "markdown",
   "id": "66458476-a81d-4b0c-8dee-b1b50bc421b9",
   "metadata": {},
   "source": [
    "### \"setdefault()\" method to handling with missing keys in a Python dictionary\n",
    "\n",
    "One practical usage of the setdefault() method is when working with dictionaries that contain lists or other mutable objects as values. In such cases, setdefault() can be used to easily add new items to the list without having to check if the key already exists in the dictionary."
   ]
  },
  {
   "cell_type": "code",
   "execution_count": 8,
   "id": "43ac5dd4-7c3e-4c45-91ae-0e1f19d2e1aa",
   "metadata": {},
   "outputs": [
    {
     "name": "stdout",
     "output_type": "stream",
     "text": [
      "{'apples': [1, 2, 3, 4], 'oranges': [4, 5, 6], 'pears': [1]}\n"
     ]
    }
   ],
   "source": [
    "# Creating a dictionary with list values\n",
    "my_dict = {'apples': [1, 2, 3], 'oranges': [4, 5]}\n",
    "\n",
    "# Adding a new value to the list for an existing key using setdefault()\n",
    "my_dict.setdefault('apples', []).append(4)\n",
    "my_dict.setdefault('oranges', []).append(6)\n",
    "my_dict.setdefault('pears', []).append(1)\n",
    "\n",
    "# Printing the updated dictionary\n",
    "print(my_dict)"
   ]
  },
  {
   "cell_type": "code",
   "execution_count": 4,
   "id": "5c6e396c-646b-4484-a2e8-feb3ec00e4a0",
   "metadata": {},
   "outputs": [
    {
     "ename": "KeyError",
     "evalue": "'four'",
     "output_type": "error",
     "traceback": [
      "\u001b[0;31m---------------------------------------------------------------------------\u001b[0m",
      "\u001b[0;31mKeyError\u001b[0m                                  Traceback (most recent call last)",
      "Cell \u001b[0;32mIn[4], line 1\u001b[0m\n\u001b[0;32m----> 1\u001b[0m \u001b[43md\u001b[49m\u001b[43m[\u001b[49m\u001b[38;5;124;43m\"\u001b[39;49m\u001b[38;5;124;43mfour\u001b[39;49m\u001b[38;5;124;43m\"\u001b[39;49m\u001b[43m]\u001b[49m\n",
      "\u001b[0;31mKeyError\u001b[0m: 'four'"
     ]
    }
   ],
   "source": [
    "d[\"four\"]"
   ]
  },
  {
   "cell_type": "code",
   "execution_count": 6,
   "id": "8a54d6dc-fd67-4b1c-9dc6-8dd4955a155c",
   "metadata": {},
   "outputs": [],
   "source": [
    "d.setdefault(\"four\", None)"
   ]
  },
  {
   "cell_type": "code",
   "execution_count": 7,
   "id": "c1c66763-a4f2-47c5-8c00-db5420b10d59",
   "metadata": {},
   "outputs": [
    {
     "data": {
      "text/plain": [
       "{'one': 1, 'two': 2, 'three': 3, 'four': None}"
      ]
     },
     "execution_count": 7,
     "metadata": {},
     "output_type": "execute_result"
    }
   ],
   "source": [
    "d"
   ]
  },
  {
   "cell_type": "markdown",
   "id": "eb737813-7f08-4ae6-b38e-6773e8b721a2",
   "metadata": {},
   "source": [
    "### collections.defaultdict"
   ]
  },
  {
   "cell_type": "code",
   "execution_count": 13,
   "id": "7754a846-9880-429f-b19a-c1f792b1e310",
   "metadata": {},
   "outputs": [
    {
     "name": "stdout",
     "output_type": "stream",
     "text": [
      "defaultdict(<class 'int'>, {'apple': 3, 'orange': 6, 'banana': 9})\n"
     ]
    }
   ],
   "source": [
    "words = [\"apple\", \"orange\", \"banana\", \"banana\", \"orange\", \"banana\"]\n",
    "words *= 3\n",
    "\n",
    "word_counts = collections.defaultdict(int)\n",
    "\n",
    "for word in words:\n",
    "    word_counts[word] += 1 \n",
    "    \n",
    "print(word_counts)"
   ]
  },
  {
   "cell_type": "markdown",
   "id": "b97284d8-c968-4914-9ba1-e18527b78c61",
   "metadata": {},
   "source": [
    "### Slicing multidimensional arrays and DataFrames."
   ]
  },
  {
   "cell_type": "code",
   "execution_count": 2,
   "id": "99ddd6cd-6c1a-4fa3-86e6-1bb049f34abd",
   "metadata": {},
   "outputs": [],
   "source": [
    "my_array = np.array(\n",
    "    [[1, 2, 3],\n",
    "     [4, 5, 6],\n",
    "     [7, 8, 9]])"
   ]
  },
  {
   "cell_type": "code",
   "execution_count": 5,
   "id": "40b9346f-c383-47c0-8ce1-265212317b98",
   "metadata": {},
   "outputs": [
    {
     "data": {
      "text/plain": [
       "array([1, 4, 7])"
      ]
     },
     "metadata": {},
     "output_type": "display_data"
    },
    {
     "data": {
      "text/plain": [
       "array([2, 5, 8])"
      ]
     },
     "metadata": {},
     "output_type": "display_data"
    },
    {
     "data": {
      "text/plain": [
       "array([3, 6, 9])"
      ]
     },
     "metadata": {},
     "output_type": "display_data"
    }
   ],
   "source": [
    "display(my_array[:, 0])\n",
    "display(my_array[:, 1])\n",
    "display(my_array[:, 2])"
   ]
  },
  {
   "cell_type": "code",
   "execution_count": 6,
   "id": "3427c8d0-88d1-4885-91af-edacc45d81d3",
   "metadata": {},
   "outputs": [
    {
     "data": {
      "text/plain": [
       "array([1, 2, 3])"
      ]
     },
     "metadata": {},
     "output_type": "display_data"
    },
    {
     "data": {
      "text/plain": [
       "array([4, 5, 6])"
      ]
     },
     "metadata": {},
     "output_type": "display_data"
    },
    {
     "data": {
      "text/plain": [
       "array([7, 8, 9])"
      ]
     },
     "metadata": {},
     "output_type": "display_data"
    }
   ],
   "source": [
    "display(my_array[0, :])\n",
    "display(my_array[1, :])\n",
    "display(my_array[2, :])"
   ]
  },
  {
   "cell_type": "code",
   "execution_count": 8,
   "id": "f890ae1a-9746-4e90-94de-ea2c231a99d9",
   "metadata": {},
   "outputs": [
    {
     "data": {
      "text/plain": [
       "array([[1, 2, 3],\n",
       "       [4, 5, 6]])"
      ]
     },
     "metadata": {},
     "output_type": "display_data"
    },
    {
     "data": {
      "text/plain": [
       "array([[1, 2],\n",
       "       [4, 5],\n",
       "       [7, 8]])"
      ]
     },
     "metadata": {},
     "output_type": "display_data"
    }
   ],
   "source": [
    "display(my_array[:2, :])\n",
    "display(my_array[:, :2])"
   ]
  },
  {
   "cell_type": "code",
   "execution_count": 14,
   "id": "0cd9907d-7df0-4da8-afb8-6071240963d3",
   "metadata": {},
   "outputs": [],
   "source": [
    "df = pd.DataFrame(np.random.randint(0,100,size=(15, 4)), columns=list('ABCD'))"
   ]
  },
  {
   "cell_type": "code",
   "execution_count": 16,
   "id": "8761fdd6-c950-42d7-b03c-95033ac7b63f",
   "metadata": {},
   "outputs": [
    {
     "data": {
      "text/html": [
       "<div>\n",
       "<style scoped>\n",
       "    .dataframe tbody tr th:only-of-type {\n",
       "        vertical-align: middle;\n",
       "    }\n",
       "\n",
       "    .dataframe tbody tr th {\n",
       "        vertical-align: top;\n",
       "    }\n",
       "\n",
       "    .dataframe thead th {\n",
       "        text-align: right;\n",
       "    }\n",
       "</style>\n",
       "<table border=\"1\" class=\"dataframe\">\n",
       "  <thead>\n",
       "    <tr style=\"text-align: right;\">\n",
       "      <th></th>\n",
       "      <th>A</th>\n",
       "      <th>B</th>\n",
       "      <th>C</th>\n",
       "      <th>D</th>\n",
       "    </tr>\n",
       "  </thead>\n",
       "  <tbody>\n",
       "    <tr>\n",
       "      <th>0</th>\n",
       "      <td>69</td>\n",
       "      <td>45</td>\n",
       "      <td>91</td>\n",
       "      <td>68</td>\n",
       "    </tr>\n",
       "    <tr>\n",
       "      <th>1</th>\n",
       "      <td>62</td>\n",
       "      <td>31</td>\n",
       "      <td>31</td>\n",
       "      <td>71</td>\n",
       "    </tr>\n",
       "    <tr>\n",
       "      <th>2</th>\n",
       "      <td>54</td>\n",
       "      <td>28</td>\n",
       "      <td>78</td>\n",
       "      <td>87</td>\n",
       "    </tr>\n",
       "    <tr>\n",
       "      <th>3</th>\n",
       "      <td>45</td>\n",
       "      <td>14</td>\n",
       "      <td>74</td>\n",
       "      <td>29</td>\n",
       "    </tr>\n",
       "    <tr>\n",
       "      <th>4</th>\n",
       "      <td>32</td>\n",
       "      <td>0</td>\n",
       "      <td>77</td>\n",
       "      <td>26</td>\n",
       "    </tr>\n",
       "  </tbody>\n",
       "</table>\n",
       "</div>"
      ],
      "text/plain": [
       "    A   B   C   D\n",
       "0  69  45  91  68\n",
       "1  62  31  31  71\n",
       "2  54  28  78  87\n",
       "3  45  14  74  29\n",
       "4  32   0  77  26"
      ]
     },
     "execution_count": 16,
     "metadata": {},
     "output_type": "execute_result"
    }
   ],
   "source": [
    "df.head()"
   ]
  },
  {
   "cell_type": "code",
   "execution_count": 24,
   "id": "4568dd25-d706-4184-b0f8-67eaadfe54e7",
   "metadata": {},
   "outputs": [
    {
     "data": {
      "text/html": [
       "<div>\n",
       "<style scoped>\n",
       "    .dataframe tbody tr th:only-of-type {\n",
       "        vertical-align: middle;\n",
       "    }\n",
       "\n",
       "    .dataframe tbody tr th {\n",
       "        vertical-align: top;\n",
       "    }\n",
       "\n",
       "    .dataframe thead th {\n",
       "        text-align: right;\n",
       "    }\n",
       "</style>\n",
       "<table border=\"1\" class=\"dataframe\">\n",
       "  <thead>\n",
       "    <tr style=\"text-align: right;\">\n",
       "      <th></th>\n",
       "      <th>A</th>\n",
       "      <th>C</th>\n",
       "    </tr>\n",
       "  </thead>\n",
       "  <tbody>\n",
       "    <tr>\n",
       "      <th>1</th>\n",
       "      <td>62</td>\n",
       "      <td>31</td>\n",
       "    </tr>\n",
       "    <tr>\n",
       "      <th>2</th>\n",
       "      <td>54</td>\n",
       "      <td>78</td>\n",
       "    </tr>\n",
       "    <tr>\n",
       "      <th>3</th>\n",
       "      <td>45</td>\n",
       "      <td>74</td>\n",
       "    </tr>\n",
       "  </tbody>\n",
       "</table>\n",
       "</div>"
      ],
      "text/plain": [
       "    A   C\n",
       "1  62  31\n",
       "2  54  78\n",
       "3  45  74"
      ]
     },
     "metadata": {},
     "output_type": "display_data"
    },
    {
     "data": {
      "text/html": [
       "<div>\n",
       "<style scoped>\n",
       "    .dataframe tbody tr th:only-of-type {\n",
       "        vertical-align: middle;\n",
       "    }\n",
       "\n",
       "    .dataframe tbody tr th {\n",
       "        vertical-align: top;\n",
       "    }\n",
       "\n",
       "    .dataframe thead th {\n",
       "        text-align: right;\n",
       "    }\n",
       "</style>\n",
       "<table border=\"1\" class=\"dataframe\">\n",
       "  <thead>\n",
       "    <tr style=\"text-align: right;\">\n",
       "      <th></th>\n",
       "      <th>A</th>\n",
       "      <th>C</th>\n",
       "    </tr>\n",
       "  </thead>\n",
       "  <tbody>\n",
       "    <tr>\n",
       "      <th>1</th>\n",
       "      <td>62</td>\n",
       "      <td>31</td>\n",
       "    </tr>\n",
       "    <tr>\n",
       "      <th>2</th>\n",
       "      <td>54</td>\n",
       "      <td>78</td>\n",
       "    </tr>\n",
       "    <tr>\n",
       "      <th>3</th>\n",
       "      <td>45</td>\n",
       "      <td>74</td>\n",
       "    </tr>\n",
       "  </tbody>\n",
       "</table>\n",
       "</div>"
      ],
      "text/plain": [
       "    A   C\n",
       "1  62  31\n",
       "2  54  78\n",
       "3  45  74"
      ]
     },
     "metadata": {},
     "output_type": "display_data"
    }
   ],
   "source": [
    "display(df.loc[1:3, [\"A\", \"C\"]])\n",
    "display(df.iloc[1:4, [0, 2]])"
   ]
  },
  {
   "cell_type": "markdown",
   "id": "9b9c9312-b694-4493-8f21-b84cb6e9a05f",
   "metadata": {},
   "source": [
    "### `__mising__` method to set default values to dict subclasses"
   ]
  },
  {
   "cell_type": "code",
   "execution_count": 1,
   "id": "e39d4229-894e-4885-8682-77b17419c688",
   "metadata": {},
   "outputs": [
    {
     "data": {
      "text/plain": [
       "1"
      ]
     },
     "metadata": {},
     "output_type": "display_data"
    },
    {
     "ename": "KeyError",
     "evalue": "'three'",
     "output_type": "error",
     "traceback": [
      "\u001b[0;31m---------------------------------------------------------------------------\u001b[0m",
      "\u001b[0;31mKeyError\u001b[0m                                  Traceback (most recent call last)",
      "Cell \u001b[0;32mIn[1], line 4\u001b[0m\n\u001b[1;32m      1\u001b[0m a \u001b[38;5;241m=\u001b[39m {\u001b[38;5;124m\"\u001b[39m\u001b[38;5;124mone\u001b[39m\u001b[38;5;124m\"\u001b[39m: \u001b[38;5;241m1\u001b[39m, \u001b[38;5;124m\"\u001b[39m\u001b[38;5;124mtwo\u001b[39m\u001b[38;5;124m\"\u001b[39m: \u001b[38;5;241m2\u001b[39m}\n\u001b[1;32m      3\u001b[0m display(a[\u001b[38;5;124m\"\u001b[39m\u001b[38;5;124mone\u001b[39m\u001b[38;5;124m\"\u001b[39m])\n\u001b[0;32m----> 4\u001b[0m display(\u001b[43ma\u001b[49m\u001b[43m[\u001b[49m\u001b[38;5;124;43m\"\u001b[39;49m\u001b[38;5;124;43mthree\u001b[39;49m\u001b[38;5;124;43m\"\u001b[39;49m\u001b[43m]\u001b[49m)\n",
      "\u001b[0;31mKeyError\u001b[0m: 'three'"
     ]
    }
   ],
   "source": [
    "a = {\"one\": 1, \"two\": 2}\n",
    "\n",
    "display(a[\"one\"])\n",
    "display(a[\"three\"])"
   ]
  },
  {
   "cell_type": "code",
   "execution_count": 2,
   "id": "35565c94-11a2-48d4-9bfa-73c5a630ae65",
   "metadata": {},
   "outputs": [],
   "source": [
    "class DictSubClass(dict):\n",
    "    def __missing__(self, key):\n",
    "        return f\"This is a default value for key {key}\""
   ]
  },
  {
   "cell_type": "code",
   "execution_count": 5,
   "id": "6fe9ca60-9d2b-4eef-bf20-e9772b628bb5",
   "metadata": {},
   "outputs": [
    {
     "data": {
      "text/plain": [
       "1"
      ]
     },
     "metadata": {},
     "output_type": "display_data"
    },
    {
     "data": {
      "text/plain": [
       "'This is a default value for key TEST'"
      ]
     },
     "metadata": {},
     "output_type": "display_data"
    }
   ],
   "source": [
    "b = DictSubClass({\"one\": 1, \"two\": 2})\n",
    "\n",
    "display(b[\"one\"])\n",
    "display(b[\"TEST\"])"
   ]
  },
  {
   "cell_type": "markdown",
   "id": "b849eb42-9681-4989-90ae-f6236a6e3c9e",
   "metadata": {},
   "source": [
    "### Pydentic to define and validade data models"
   ]
  },
  {
   "cell_type": "code",
   "execution_count": 2,
   "id": "624afcb7-d784-4596-a87b-60c5a4656412",
   "metadata": {},
   "outputs": [
    {
     "name": "stdout",
     "output_type": "stream",
     "text": [
      "\u001b[92mname='Widget' description='A useful widget' price=1999 discount=0.5 url=HttpUrl('http://test.com', ) in_stock=True\u001b[0m\n"
     ]
    }
   ],
   "source": [
    "from pydantic import BaseModel, HttpUrl, PositiveFloat, PositiveInt\n",
    "\n",
    "\n",
    "class Product(BaseModel):\n",
    "    name: str\n",
    "    description: str\n",
    "    price: PositiveInt\n",
    "    discount: PositiveFloat\n",
    "    url: HttpUrl\n",
    "    in_stock: bool\n",
    "\n",
    "prod_data = {\n",
    "    'name': 'Widget',\n",
    "    'description': 'A useful widget',\n",
    "    'price': '1999',\n",
    "    'discount': '0.5',\n",
    "    'url': 'http://test.com',\n",
    "    'in_stock': True\n",
    "}\n",
    "\n",
    "prod = Product(**prod_data)\n",
    "\n",
    "print(f\"\\033[92m{prod}\\033[0m\")"
   ]
  },
  {
   "cell_type": "markdown",
   "id": "ae782c76-22c0-43ca-b132-77471f6a925c",
   "metadata": {},
   "source": [
    "### map() with multiple iterators"
   ]
  },
  {
   "cell_type": "code",
   "execution_count": 4,
   "id": "607b9beb-47db-4d89-bd9a-1d66c3531c63",
   "metadata": {},
   "outputs": [
    {
     "data": {
      "text/plain": [
       "[5, 7, 9]"
      ]
     },
     "execution_count": 4,
     "metadata": {},
     "output_type": "execute_result"
    }
   ],
   "source": [
    "l1 = [1, 2, 3]\n",
    "l2 = [4, 5, 6]\n",
    "\n",
    "l1l2 = map(lambda n1, n2: n1 + n2, l1, l2)\n",
    "[*l1l2]"
   ]
  },
  {
   "cell_type": "markdown",
   "id": "42bd9b16-dc08-4314-b90d-68b16eed8459",
   "metadata": {},
   "source": [
    "### Sets\n",
    "**A set is a collection of immutable objects**"
   ]
  },
  {
   "cell_type": "code",
   "execution_count": 12,
   "id": "1af61e94-69ed-42f2-a7be-22ca188676f3",
   "metadata": {},
   "outputs": [
    {
     "data": {
      "text/plain": [
       "['apple', 'grape', 'orange', 'banana']"
      ]
     },
     "execution_count": 12,
     "metadata": {},
     "output_type": "execute_result"
    }
   ],
   "source": [
    "# Removing duplications from a list\n",
    "\n",
    "l = [\"banana\", \"banana\", \"apple\", \"orange\", \"orange\", \"grape\", \"grape\", \"banana\", \"orange\"]\n",
    "\n",
    "decuplicated_l = list(set(l))\n",
    "decuplicated_l"
   ]
  },
  {
   "cell_type": "code",
   "execution_count": 13,
   "id": "4bf56c77-f7bc-467a-a400-017df88ee6b7",
   "metadata": {},
   "outputs": [
    {
     "data": {
      "text/plain": [
       "['banana', 'apple', 'orange', 'grape']"
      ]
     },
     "execution_count": 13,
     "metadata": {},
     "output_type": "execute_result"
    }
   ],
   "source": [
    "# Remove duplicates preserving the order of items -> use dict\n",
    "\n",
    "deduplicated_ordered = list(dict.fromkeys(l).keys())\n",
    "deduplicated_ordered"
   ]
  },
  {
   "cell_type": "code",
   "execution_count": 14,
   "id": "ebec2cbd-6447-4519-9bf3-dc750fbde7cf",
   "metadata": {},
   "outputs": [
    {
     "data": {
      "text/plain": [
       "2"
      ]
     },
     "execution_count": 14,
     "metadata": {},
     "output_type": "execute_result"
    }
   ],
   "source": [
    "# Count occurences of a subset in a set\n",
    "\n",
    "sub = [\"banana\", \"grape\"]\n",
    "\n",
    "found = len(set(sub) & set(l))\n",
    "found"
   ]
  },
  {
   "cell_type": "code",
   "execution_count": 16,
   "id": "00f0c1ee-ab2d-4638-8368-c1d943a252b8",
   "metadata": {},
   "outputs": [
    {
     "data": {
      "text/plain": [
       "2"
      ]
     },
     "execution_count": 16,
     "metadata": {},
     "output_type": "execute_result"
    }
   ],
   "source": [
    "intersection = set(sub).intersection(l)\n",
    "found = len(intersection)\n",
    "found"
   ]
  },
  {
   "cell_type": "code",
   "execution_count": 17,
   "id": "fe0b0ac8-77b4-43f3-bcfe-9763c9ba6de0",
   "metadata": {},
   "outputs": [
    {
     "data": {
      "text/plain": [
       "{'banana', 'grape'}"
      ]
     },
     "execution_count": 17,
     "metadata": {},
     "output_type": "execute_result"
    }
   ],
   "source": [
    "intersection"
   ]
  },
  {
   "cell_type": "code",
   "execution_count": 22,
   "id": "abf17c83-1053-4cd6-964a-189ecdba2048",
   "metadata": {},
   "outputs": [
    {
     "data": {
      "text/plain": [
       "frozenset({0, 1, 2, 3, 4, 5, 6, 7, 8, 9})"
      ]
     },
     "execution_count": 22,
     "metadata": {},
     "output_type": "execute_result"
    }
   ],
   "source": [
    "# frozenset\n",
    "\n",
    "frset = frozenset(range(10))\n",
    "frset"
   ]
  },
  {
   "cell_type": "code",
   "execution_count": 24,
   "id": "92d8cdbc-5206-4f55-8ebe-f32377698eb7",
   "metadata": {},
   "outputs": [
    {
     "data": {
      "text/plain": [
       "{1, 2, 3, 4, 5, 6, 11, 22, 23, 44}"
      ]
     },
     "metadata": {},
     "output_type": "display_data"
    },
    {
     "data": {
      "text/plain": [
       "{1, 2, 3, 4, 5, 6, 7, 8, 11, 23, 44}"
      ]
     },
     "metadata": {},
     "output_type": "display_data"
    }
   ],
   "source": [
    "# Working with sets and other iterables\n",
    "\n",
    "a = [1, 2, 3, 4, 2, 1, 5, 6]\n",
    "b = [4, 6, 7, 8, 1, 2, 3, 3]\n",
    "c = [11, 23, 1, 44, 5, 44, 1, 23, 11]\n",
    "\n",
    "st = {1, 3, 5, 22, 11}\n",
    "\n",
    "stac = st.union(a, c)\n",
    "set_abc = {*a, *b, *c}\n",
    "\n",
    "\n",
    "display(stac)\n",
    "display(set_abc)"
   ]
  },
  {
   "cell_type": "markdown",
   "id": "870478e6-cf4b-4d1b-a655-f5a2395db0f1",
   "metadata": {},
   "source": [
    "### Data Class Builders"
   ]
  },
  {
   "cell_type": "code",
   "execution_count": 32,
   "id": "e5b3dd46-0ac2-4b2a-8fd0-a70ffdf16d43",
   "metadata": {},
   "outputs": [],
   "source": [
    "# imports \n",
    "\n",
    "from collections import namedtuple\n",
    "from typing import NamedTuple\n",
    "from dataclasses import dataclass"
   ]
  },
  {
   "cell_type": "code",
   "execution_count": 35,
   "id": "ebe158fc-bea2-4197-8a46-a7153914e13f",
   "metadata": {},
   "outputs": [
    {
     "data": {
      "text/plain": [
       "True"
      ]
     },
     "execution_count": 35,
     "metadata": {},
     "output_type": "execute_result"
    }
   ],
   "source": [
    "# collections.namedtuple\n",
    "\n",
    "coordinate_01 = namedtuple(\"Coordinate_01\", \"lat lon\")\n",
    "issubclass(coordinate_01, tuple)"
   ]
  },
  {
   "cell_type": "code",
   "execution_count": 38,
   "id": "580ed3ce-b213-4039-bd35-456e10577e4c",
   "metadata": {},
   "outputs": [
    {
     "data": {
      "text/plain": [
       "Coordinate(lat=55.576, lon=37.617)"
      ]
     },
     "metadata": {},
     "output_type": "display_data"
    },
    {
     "data": {
      "text/plain": [
       "True"
      ]
     },
     "metadata": {},
     "output_type": "display_data"
    }
   ],
   "source": [
    "moscow = coordinate_01(55.576, 37.617)\n",
    "display(moscow)\n",
    "display(moscow == coordinate_01(55.576, 37.617))\n",
    "\n",
    "# collections.namedtuple has a useful __repr__ and a meaningful __eq__ methods, but there is no type annotation"
   ]
  },
  {
   "cell_type": "code",
   "execution_count": 39,
   "id": "1f0d7b62-08e9-4b4d-a7ad-c9c4c4c9e600",
   "metadata": {},
   "outputs": [
    {
     "data": {
      "text/plain": [
       "True"
      ]
     },
     "execution_count": 39,
     "metadata": {},
     "output_type": "execute_result"
    }
   ],
   "source": [
    "# typin.NamedTuple\n",
    "\n",
    "coordinate_02 = NamedTuple(\"Coordinate_02\", [(\"lat\", float), (\"lon\", float)])\n",
    "issubclass(coordinate_02, tuple)"
   ]
  },
  {
   "cell_type": "code",
   "execution_count": 41,
   "id": "fe49bf95-8d73-4266-9ea5-112a1a3204e1",
   "metadata": {},
   "outputs": [
    {
     "data": {
      "text/plain": [
       "{'lat': float, 'lon': float}"
      ]
     },
     "execution_count": 41,
     "metadata": {},
     "output_type": "execute_result"
    }
   ],
   "source": [
    "import typing\n",
    "\n",
    "typing.get_type_hints(coordinate_02)"
   ]
  },
  {
   "cell_type": "code",
   "execution_count": 42,
   "id": "c0e6108c-81c7-4fe7-b81f-4ac8541e791e",
   "metadata": {},
   "outputs": [
    {
     "data": {
      "text/plain": [
       "Coordinate_03(lat=55.576, lon=37.617)"
      ]
     },
     "metadata": {},
     "output_type": "display_data"
    }
   ],
   "source": [
    "coordinate_03 = NamedTuple(\"Coordinate_03\", lat=float, lon=float)\n",
    "lat_lon = {\"lat\": 55.576, \"lon\": 37.617}\n",
    "display(coordinate_03(**lat_lon))"
   ]
  },
  {
   "cell_type": "code",
   "execution_count": 50,
   "id": "689599f2-2b1c-4006-b20a-ceeea87e3138",
   "metadata": {},
   "outputs": [
    {
     "data": {
      "text/plain": [
       "{'lat': float, 'lon': float}"
      ]
     },
     "execution_count": 50,
     "metadata": {},
     "output_type": "execute_result"
    }
   ],
   "source": [
    "coordinate_03.__annotations__"
   ]
  },
  {
   "cell_type": "code",
   "execution_count": 52,
   "id": "c790d612-71a8-4216-9e7b-2d4bdcbc6cc4",
   "metadata": {},
   "outputs": [
    {
     "ename": "TypeError",
     "evalue": "Coordinate_03._replace() missing 1 required positional argument: 'self'",
     "output_type": "error",
     "traceback": [
      "\u001b[0;31m---------------------------------------------------------------------------\u001b[0m",
      "\u001b[0;31mTypeError\u001b[0m                                 Traceback (most recent call last)",
      "Cell \u001b[0;32mIn[52], line 2\u001b[0m\n\u001b[1;32m      1\u001b[0m lat_lon_02 \u001b[38;5;241m=\u001b[39m {\u001b[38;5;124m\"\u001b[39m\u001b[38;5;124mlat\u001b[39m\u001b[38;5;124m\"\u001b[39m:\u001b[38;5;241m11.111\u001b[39m, \u001b[38;5;124m\"\u001b[39m\u001b[38;5;124mlon\u001b[39m\u001b[38;5;124m\"\u001b[39m: \u001b[38;5;241m22.222\u001b[39m}\n\u001b[0;32m----> 2\u001b[0m \u001b[43mcoordinate_03\u001b[49m\u001b[38;5;241;43m.\u001b[39;49m\u001b[43m_replace\u001b[49m\u001b[43m(\u001b[49m\u001b[38;5;241;43m*\u001b[39;49m\u001b[38;5;241;43m*\u001b[39;49m\u001b[43mlat_lon_02\u001b[49m\u001b[43m)\u001b[49m\n\u001b[1;32m      3\u001b[0m display(coordinate_03)\n",
      "\u001b[0;31mTypeError\u001b[0m: Coordinate_03._replace() missing 1 required positional argument: 'self'"
     ]
    }
   ],
   "source": [
    "lat_lon_02 = {\"lat\":11.111, \"lon\": 22.222}\n",
    "coordinate_03._replace(**lat_lon_02)\n",
    "display(coordinate_03)"
   ]
  },
  {
   "cell_type": "code",
   "execution_count": 43,
   "id": "e50d82f0-d455-48a6-9521-72d7e1403121",
   "metadata": {},
   "outputs": [],
   "source": [
    "# dataclass\n",
    "\n",
    "@dataclass(frozen=True)\n",
    "class Coordinate_04:\n",
    "    lat: float\n",
    "    lon: float\n",
    "    \n",
    "    def __str__(self) -> str:\n",
    "        return f\"Coordinate_04[lat={self.lat:r!}, lon={self.lon:r!}]\""
   ]
  },
  {
   "cell_type": "code",
   "execution_count": 45,
   "id": "74e7969b-2a97-436a-8c97-6786a34b682b",
   "metadata": {},
   "outputs": [
    {
     "data": {
      "text/plain": [
       "Coordinate_04(lat=55.576, lon=37.617)"
      ]
     },
     "metadata": {},
     "output_type": "display_data"
    }
   ],
   "source": [
    "coordinate_04 = Coordinate_04(lat=55.576, lon=37.617)\n",
    "display(coordinate_04)"
   ]
  },
  {
   "cell_type": "code",
   "execution_count": 46,
   "id": "6e2e1fc8-4876-4cb3-85eb-2bfb72420fdb",
   "metadata": {},
   "outputs": [
    {
     "ename": "NameError",
     "evalue": "name 'inspect' is not defined",
     "output_type": "error",
     "traceback": [
      "\u001b[0;31m---------------------------------------------------------------------------\u001b[0m",
      "\u001b[0;31mNameError\u001b[0m                                 Traceback (most recent call last)",
      "Cell \u001b[0;32mIn[46], line 3\u001b[0m\n\u001b[1;32m      1\u001b[0m \u001b[38;5;66;03m# get __annotations__\u001b[39;00m\n\u001b[0;32m----> 3\u001b[0m \u001b[43minspect\u001b[49m\u001b[38;5;241m.\u001b[39mget_annotations(coordinate_04)\n",
      "\u001b[0;31mNameError\u001b[0m: name 'inspect' is not defined"
     ]
    }
   ],
   "source": [
    "# get __annotations__\n",
    "\n",
    "#inspect.get_annotations(coordinate_04)"
   ]
  },
  {
   "cell_type": "code",
   "execution_count": 48,
   "id": "5cf45188-9def-4ea0-bc89-28cc68c15c64",
   "metadata": {},
   "outputs": [
    {
     "data": {
      "text/plain": [
       "{'lat': float, 'lon': float}"
      ]
     },
     "metadata": {},
     "output_type": "display_data"
    }
   ],
   "source": [
    "display(coordinate_04.__annotations__)"
   ]
  },
  {
   "cell_type": "code",
   "execution_count": 55,
   "id": "8cc3eabd-68b7-46b8-b8aa-fc1291ae7cb3",
   "metadata": {},
   "outputs": [
    {
     "data": {
      "text/plain": [
       "Coordinate_04(lat=55.576, lon=37.617)"
      ]
     },
     "metadata": {},
     "output_type": "display_data"
    }
   ],
   "source": [
    "import dataclasses\n",
    "\n",
    "lat_lon_02 = {\"lat\":11.111, \"lon\": 22.222}\n",
    "dataclasses.replace(coordinate_04, **lat_lon_02)\n",
    "display(coordinate_04)"
   ]
  }
 ],
 "metadata": {
  "kernelspec": {
   "display_name": "py3.10",
   "language": "python",
   "name": "py3.10"
  },
  "language_info": {
   "codemirror_mode": {
    "name": "ipython",
    "version": 3
   },
   "file_extension": ".py",
   "mimetype": "text/x-python",
   "name": "python",
   "nbconvert_exporter": "python",
   "pygments_lexer": "ipython3",
   "version": "3.10.9"
  }
 },
 "nbformat": 4,
 "nbformat_minor": 5
}
