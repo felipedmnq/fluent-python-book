{
 "cells": [
  {
   "cell_type": "code",
   "execution_count": 33,
   "id": "020e58bf-57c1-4cee-bdba-076eb475b60c",
   "metadata": {},
   "outputs": [],
   "source": [
    "# Imports\n",
    "from typing import List\n",
    "import array"
   ]
  },
  {
   "cell_type": "markdown",
   "id": "47e20627-bda4-4281-864d-5fb7e9979520",
   "metadata": {},
   "source": [
    "### __len__ and__getitem__ to enable slicing"
   ]
  },
  {
   "cell_type": "code",
   "execution_count": 13,
   "id": "ecf09c6b-391d-4d0d-9065-020a3bcc915d",
   "metadata": {},
   "outputs": [],
   "source": [
    "class LenSlicing:\n",
    "    \"\"\"Test the usage of __len__ and __getitem__ to enable slicing of a custom class object\"\"\"\n",
    "    def __init__(self, lst: List) -> None:\n",
    "        self.lst = lst\n",
    "        \n",
    "    def __len__(self) -> int:\n",
    "        return len(self.lst)\n",
    "    \n",
    "    def __getitem__(self, position: int) -> any:\n",
    "        return self.lst[position]"
   ]
  },
  {
   "cell_type": "code",
   "execution_count": 4,
   "id": "90741feb-f8d6-4efe-82ce-9600ae2d776f",
   "metadata": {},
   "outputs": [
    {
     "data": {
      "text/plain": [
       "'b'"
      ]
     },
     "execution_count": 4,
     "metadata": {},
     "output_type": "execute_result"
    }
   ],
   "source": [
    "test = LenSlicing(['a', 'b', 'c'])\n",
    "test[1]"
   ]
  },
  {
   "cell_type": "code",
   "execution_count": 12,
   "id": "98fcc736-dc14-4f05-810b-f0c85398b5c3",
   "metadata": {},
   "outputs": [
    {
     "data": {
      "text/plain": [
       "3"
      ]
     },
     "execution_count": 12,
     "metadata": {},
     "output_type": "execute_result"
    }
   ],
   "source": [
    "len(test)"
   ]
  },
  {
   "cell_type": "markdown",
   "id": "fcda7b39-8620-4eab-91da-001e7e9d29dc",
   "metadata": {},
   "source": [
    "### Walrus operator to save variable in a comprehension"
   ]
  },
  {
   "cell_type": "code",
   "execution_count": 6,
   "id": "303cade4-0dfe-47a0-b3a1-a41052c60629",
   "metadata": {},
   "outputs": [
    {
     "data": {
      "text/plain": [
       "[65, 66, 67]"
      ]
     },
     "execution_count": 6,
     "metadata": {},
     "output_type": "execute_result"
    }
   ],
   "source": [
    "x = 'ABC'\n",
    "\n",
    "codes = [ord(x) for x in x]\n",
    "codes"
   ]
  },
  {
   "cell_type": "code",
   "execution_count": 8,
   "id": "a37ad08e-6b34-497d-9756-e8004f361376",
   "metadata": {},
   "outputs": [
    {
     "data": {
      "text/plain": [
       "[65, 66, 67]"
      ]
     },
     "execution_count": 8,
     "metadata": {},
     "output_type": "execute_result"
    }
   ],
   "source": [
    "codes = [last := ord(_) for _ in x]\n",
    "codes"
   ]
  },
  {
   "cell_type": "code",
   "execution_count": 9,
   "id": "656daa90-bfff-48ba-a18f-1c7547f23390",
   "metadata": {},
   "outputs": [
    {
     "data": {
      "text/plain": [
       "67"
      ]
     },
     "execution_count": 9,
     "metadata": {},
     "output_type": "execute_result"
    }
   ],
   "source": [
    "last"
   ]
  },
  {
   "cell_type": "markdown",
   "id": "769267eb-fe9f-4036-824a-68ad582a96be",
   "metadata": {},
   "source": [
    "### Listcomps X map() and filter()"
   ]
  },
  {
   "cell_type": "code",
   "execution_count": 16,
   "id": "f9ab9a29-8f44-4b20-9831-e598dec6aa36",
   "metadata": {},
   "outputs": [
    {
     "data": {
      "text/plain": [
       "[90, 88, 89, 74]"
      ]
     },
     "execution_count": 16,
     "metadata": {},
     "output_type": "execute_result"
    }
   ],
   "source": [
    "x = 'ABCZXYJ'\n",
    "\n",
    "listcomp = [last := ord(_) for _ in x if ord(_) > 67]\n",
    "listcomp"
   ]
  },
  {
   "cell_type": "code",
   "execution_count": 17,
   "id": "f7459628-033d-4dbe-b898-d5965d1b44e6",
   "metadata": {},
   "outputs": [
    {
     "data": {
      "text/plain": [
       "[90, 88, 89, 74]"
      ]
     },
     "execution_count": 17,
     "metadata": {},
     "output_type": "execute_result"
    }
   ],
   "source": [
    "map_filter = list(filter(lambda _: _ > 67, map(ord, x)))\n",
    "map_filter"
   ]
  },
  {
   "cell_type": "markdown",
   "id": "582f53c4-a9b9-4eed-b6ac-5a5a60fa0929",
   "metadata": {},
   "source": [
    "### Cartesian products with listcomps\n",
    "\n",
    "* Listcomps cam build lists from the cartesian product of two or more iterables. \n",
    "* The itens will be stored in tuples made from itens from every input iterable.\n",
    "* The resulting list will has the lenght equal to the lenghts of the input iterables multiplied."
   ]
  },
  {
   "cell_type": "code",
   "execution_count": 25,
   "id": "e4e7514e-9784-4aec-b892-78f56a7b2ea8",
   "metadata": {},
   "outputs": [
    {
     "data": {
      "text/plain": [
       "[('black', 'XS'),\n",
       " ('black', 'S'),\n",
       " ('black', 'M'),\n",
       " ('black', 'L'),\n",
       " ('black', 'XL'),\n",
       " ('white', 'XS'),\n",
       " ('white', 'S'),\n",
       " ('white', 'M'),\n",
       " ('white', 'L'),\n",
       " ('white', 'XL'),\n",
       " ('green', 'XS'),\n",
       " ('green', 'S'),\n",
       " ('green', 'M'),\n",
       " ('green', 'L'),\n",
       " ('green', 'XL'),\n",
       " ('gray', 'XS'),\n",
       " ('gray', 'S'),\n",
       " ('gray', 'M'),\n",
       " ('gray', 'L'),\n",
       " ('gray', 'XL')]"
      ]
     },
     "execution_count": 25,
     "metadata": {},
     "output_type": "execute_result"
    }
   ],
   "source": [
    "colors = [\"black\", \"white\", \"green\", \"gray\"]\n",
    "sizes = [\"xs\", \"s\", \"m\", \"l\", \"xl\"]\n",
    "\n",
    "colors_plus_size = [\n",
    "    (color, size.upper()) for color in colors for size in sizes\n",
    "]\n",
    "colors_plus_size"
   ]
  },
  {
   "cell_type": "markdown",
   "id": "7c0cb313-729a-41cf-97f8-eaa8fce69e14",
   "metadata": {},
   "source": [
    "### Generator expressions\n",
    "\n",
    "* To initialize tuples, arrays, and other types of sequences, you could also start from a listcomp, but a genexp (Generator Expression) saves memory because it yields items one by one using the iterator protocol instead of building a whole list just to feed another constructor.\n",
    "* Genexp uses the same syntax as listcomps, but are neclosed in parentheses rather than brackets.\n",
    "* The genexp does not build the objects in memory, the genexp feeds the for loop producting one item at a time.\n",
    "* For the tshirts example, if the two lists used in the cartesian product had a thousend items each, using a GENERATOR EXPRESSION would save the cost of building a list with A MILLION items just to feed the for loop."
   ]
  },
  {
   "cell_type": "code",
   "execution_count": 32,
   "id": "993b49c1-c255-40f0-b164-8d2b6f80036f",
   "metadata": {},
   "outputs": [
    {
     "data": {
      "text/plain": [
       "(65, 66, 67, 90, 88, 89, 74)"
      ]
     },
     "execution_count": 32,
     "metadata": {},
     "output_type": "execute_result"
    }
   ],
   "source": [
    "# genexp tuple\n",
    "\n",
    "x = 'ABCZXYJ'\n",
    "\n",
    "genexp_tuple = tuple(ord(_) for _ in x)\n",
    "genexp_tuple"
   ]
  },
  {
   "cell_type": "code",
   "execution_count": 34,
   "id": "16542293-0f17-46b0-8286-f106d1ed0c39",
   "metadata": {},
   "outputs": [
    {
     "data": {
      "text/plain": [
       "array('I', [65, 66, 67, 90, 88, 89, 74])"
      ]
     },
     "execution_count": 34,
     "metadata": {},
     "output_type": "execute_result"
    }
   ],
   "source": [
    "# genexp array\n",
    "\n",
    "genexp_array = array.array(\"I\", (ord(_) for _ in x))\n",
    "genexp_array\n",
    "\n",
    "# array.array takes two arguments, the first element refers to the storage type \"I\"\n",
    "\"\"\"\n",
    "Type code   C Type             Minimum size in bytes\n",
    "    'b'         signed integer     1\n",
    "    'B'         unsigned integer   1\n",
    "    'u'         Unicode character  2 (see note)\n",
    "    'h'         signed integer     2\n",
    "    'H'         unsigned integer   2\n",
    "    'i'         signed integer     2\n",
    "    'I'         unsigned integer   2\n",
    "    'l'         signed integer     4\n",
    "    'L'         unsigned integer   4\n",
    "    'q'         signed integer     8 (see note)\n",
    "    'Q'         unsigned integer   8 (see note)\n",
    "    'f'         floating point     4\n",
    "    'd'         floating point     8\n",
    "\"\"\""
   ]
  },
  {
   "cell_type": "code",
   "execution_count": 35,
   "id": "624345b1-ed2f-4aaf-8081-ac0be6343a70",
   "metadata": {},
   "outputs": [
    {
     "data": {
      "text/plain": [
       "[('black', 'S'),\n",
       " ('black', 'M'),\n",
       " ('black', 'L'),\n",
       " ('white', 'S'),\n",
       " ('white', 'M'),\n",
       " ('white', 'L'),\n",
       " ('green', 'S'),\n",
       " ('green', 'M'),\n",
       " ('green', 'L')]"
      ]
     },
     "execution_count": 35,
     "metadata": {},
     "output_type": "execute_result"
    }
   ],
   "source": [
    "colors = [\"black\", \"white\", \"green\"]\n",
    "sizes = [\"s\", \"m\", \"l\"]\n",
    "\n",
    "colors_plus_size = [\n",
    "    (color, size.upper()) for color in colors for size in sizes\n",
    "]\n",
    "colors_plus_size"
   ]
  },
  {
   "cell_type": "code",
   "execution_count": 41,
   "id": "57ac42bc-f13f-49af-a2ca-c0706953bea3",
   "metadata": {},
   "outputs": [
    {
     "name": "stdout",
     "output_type": "stream",
     "text": [
      "black, S\n",
      "black, M\n",
      "black, L\n",
      "white, S\n",
      "white, M\n",
      "white, L\n",
      "green, S\n",
      "green, M\n",
      "green, L\n"
     ]
    }
   ],
   "source": [
    "for tshirt in (f\"{c}, {s.upper()}\" for c in colors for s in sizes):\n",
    "    print(tshirt)\n",
    "    \n",
    "# The generator expression yields items one by one; a list with all tshirts variations is never produced in this example.\n",
    "# Here the idea is to use generator expressions to produce outputs that you don't need to keep in memory. "
   ]
  },
  {
   "cell_type": "markdown",
   "id": "99f63e1a-377d-4b33-9e1b-8c09f8759ae2",
   "metadata": {},
   "source": [
    "### Tuples unpacking - iterable unpacking"
   ]
  },
  {
   "cell_type": "markdown",
   "id": "3b8f9f3b-5a01-4c46-bb60-eb6640ef108f",
   "metadata": {},
   "source": [
    "* Each element in the tuple is being assigned to a variable."
   ]
  },
  {
   "cell_type": "code",
   "execution_count": 43,
   "id": "1db6d966-836b-47a7-b5ca-ec67f9b960d0",
   "metadata": {},
   "outputs": [
    {
     "data": {
      "text/plain": [
       "'Tokio'"
      ]
     },
     "metadata": {},
     "output_type": "display_data"
    },
    {
     "data": {
      "text/plain": [
       "2023"
      ]
     },
     "metadata": {},
     "output_type": "display_data"
    },
    {
     "data": {
      "text/plain": [
       "32450000"
      ]
     },
     "metadata": {},
     "output_type": "display_data"
    },
    {
     "data": {
      "text/plain": [
       "8014"
      ]
     },
     "metadata": {},
     "output_type": "display_data"
    }
   ],
   "source": [
    "city, year, population, area = (\"Tokio\", 2023, 32_450_000, 8014)\n",
    "\n",
    "display(city)\n",
    "display(year)\n",
    "display(population)\n",
    "display(area)"
   ]
  },
  {
   "cell_type": "markdown",
   "id": "1c2255a7-00f6-4255-ad18-762d7de982be",
   "metadata": {},
   "source": [
    "* The % formatting operator understands tuples and treats each item as a separate field."
   ]
  },
  {
   "cell_type": "code",
   "execution_count": 47,
   "id": "1bc8626c-cc2d-4184-9865-d6bee1981591",
   "metadata": {},
   "outputs": [
    {
     "name": "stdout",
     "output_type": "stream",
     "text": [
      "BRA/CE12345 - 2\n",
      "GER/DE32154 - 3\n",
      "USA/319221 - 1\n"
     ]
    }
   ],
   "source": [
    "traveler_ids = [(\"USA\", \"319221\", 1), (\"BRA\", \"CE12345\", 2), (\"GER\", \"DE32154\", 3)]\n",
    "\n",
    "for passport in sorted(traveler_ids):\n",
    "    print(\"%s/%s - %i\" % passport)"
   ]
  },
  {
   "cell_type": "markdown",
   "id": "2c2c592d-7c4b-438f-8b91-0b4096096500",
   "metadata": {},
   "source": [
    "### Tuple as immutable list"
   ]
  },
  {
   "cell_type": "code",
   "execution_count": 48,
   "id": "5e110b72-a6dc-4033-aa67-90c925fd584e",
   "metadata": {},
   "outputs": [
    {
     "data": {
      "text/plain": [
       "True"
      ]
     },
     "execution_count": 48,
     "metadata": {},
     "output_type": "execute_result"
    }
   ],
   "source": [
    "a = (10, \"alpha\", [1, 2])\n",
    "b = (10, \"alpha\", [1, 2])\n",
    "\n",
    "a == b"
   ]
  },
  {
   "cell_type": "code",
   "execution_count": 49,
   "id": "4b70dd95-5c13-489f-994a-09e501ae5043",
   "metadata": {},
   "outputs": [
    {
     "data": {
      "text/plain": [
       "(10, 'alpha', [1, 2, 99])"
      ]
     },
     "metadata": {},
     "output_type": "display_data"
    },
    {
     "data": {
      "text/plain": [
       "False"
      ]
     },
     "execution_count": 49,
     "metadata": {},
     "output_type": "execute_result"
    }
   ],
   "source": [
    "b[-1].append(99)\n",
    "display(b)\n",
    "\n",
    "a == b"
   ]
  },
  {
   "cell_type": "markdown",
   "id": "aba1cd25-5879-4bf1-8e70-d10e28cdc170",
   "metadata": {},
   "source": [
    "### Using * to grab excess items"
   ]
  },
  {
   "cell_type": "code",
   "execution_count": 50,
   "id": "606af584-ba77-4ff0-89a9-6184e4a2759d",
   "metadata": {},
   "outputs": [
    {
     "data": {
      "text/plain": [
       "0"
      ]
     },
     "metadata": {},
     "output_type": "display_data"
    },
    {
     "data": {
      "text/plain": [
       "1"
      ]
     },
     "metadata": {},
     "output_type": "display_data"
    },
    {
     "data": {
      "text/plain": [
       "[2, 3, 4]"
      ]
     },
     "metadata": {},
     "output_type": "display_data"
    }
   ],
   "source": [
    "a, b, *rest = range(5)\n",
    "\n",
    "display(a)\n",
    "display(b)\n",
    "display(rest)"
   ]
  },
  {
   "cell_type": "code",
   "execution_count": 51,
   "id": "01e54381-94cf-408d-a2c7-4f8c79e49f7b",
   "metadata": {},
   "outputs": [
    {
     "data": {
      "text/plain": [
       "0"
      ]
     },
     "metadata": {},
     "output_type": "display_data"
    },
    {
     "data": {
      "text/plain": [
       "1"
      ]
     },
     "metadata": {},
     "output_type": "display_data"
    },
    {
     "data": {
      "text/plain": [
       "[]"
      ]
     },
     "metadata": {},
     "output_type": "display_data"
    }
   ],
   "source": [
    "a, b, *rest = range(2)\n",
    "\n",
    "display(a)\n",
    "display(b)\n",
    "display(rest)"
   ]
  },
  {
   "cell_type": "code",
   "execution_count": 52,
   "id": "7c06dd63-51e8-4e3d-9874-15a882020ebe",
   "metadata": {},
   "outputs": [
    {
     "data": {
      "text/plain": [
       "0"
      ]
     },
     "metadata": {},
     "output_type": "display_data"
    },
    {
     "data": {
      "text/plain": [
       "[1, 2]"
      ]
     },
     "metadata": {},
     "output_type": "display_data"
    },
    {
     "data": {
      "text/plain": [
       "3"
      ]
     },
     "metadata": {},
     "output_type": "display_data"
    },
    {
     "data": {
      "text/plain": [
       "4"
      ]
     },
     "metadata": {},
     "output_type": "display_data"
    }
   ],
   "source": [
    "a, *body, c, d = range(5)\n",
    "\n",
    "display(a)\n",
    "display(body)\n",
    "display(c)\n",
    "display(d)"
   ]
  },
  {
   "cell_type": "code",
   "execution_count": 53,
   "id": "ef7904d9-b4ee-4629-abe0-0ea5f9d23e96",
   "metadata": {},
   "outputs": [
    {
     "data": {
      "text/plain": [
       "[0, 1]"
      ]
     },
     "metadata": {},
     "output_type": "display_data"
    },
    {
     "data": {
      "text/plain": [
       "2"
      ]
     },
     "metadata": {},
     "output_type": "display_data"
    },
    {
     "data": {
      "text/plain": [
       "3"
      ]
     },
     "metadata": {},
     "output_type": "display_data"
    },
    {
     "data": {
      "text/plain": [
       "4"
      ]
     },
     "metadata": {},
     "output_type": "display_data"
    }
   ],
   "source": [
    "*head, b, c, d = range(5)\n",
    "\n",
    "display(head)\n",
    "display(b)\n",
    "display(c)\n",
    "display(d)"
   ]
  },
  {
   "cell_type": "code",
   "execution_count": 62,
   "id": "648d432a-daba-4f69-9c6c-2ce91b532156",
   "metadata": {},
   "outputs": [
    {
     "data": {
      "text/plain": [
       "(0, 1, 2, 3, 4)"
      ]
     },
     "execution_count": 62,
     "metadata": {},
     "output_type": "execute_result"
    }
   ],
   "source": [
    "a = *range(4), 4\n",
    "a"
   ]
  },
  {
   "cell_type": "code",
   "execution_count": 63,
   "id": "d842df08-25ad-488c-804f-7d58f96507e7",
   "metadata": {},
   "outputs": [
    {
     "data": {
      "text/plain": [
       "tuple"
      ]
     },
     "execution_count": 63,
     "metadata": {},
     "output_type": "execute_result"
    }
   ],
   "source": [
    "type(a)"
   ]
  },
  {
   "cell_type": "code",
   "execution_count": 55,
   "id": "fb767e21-ce5d-4b00-9fef-44553d4cd342",
   "metadata": {},
   "outputs": [
    {
     "data": {
      "text/plain": [
       "[0, 1, 2, 3, 4]"
      ]
     },
     "execution_count": 55,
     "metadata": {},
     "output_type": "execute_result"
    }
   ],
   "source": [
    "[*range(4), 4]"
   ]
  },
  {
   "cell_type": "code",
   "execution_count": 56,
   "id": "fcd5a23c-4243-4461-95ac-14128c3a7010",
   "metadata": {},
   "outputs": [
    {
     "data": {
      "text/plain": [
       "{0, 1, 2, 3, 4, 5, 6, 7}"
      ]
     },
     "execution_count": 56,
     "metadata": {},
     "output_type": "execute_result"
    }
   ],
   "source": [
    "{*range(4), 4, *(5, 6, 7)}"
   ]
  },
  {
   "cell_type": "code",
   "execution_count": 65,
   "id": "f9eb7d22-c341-4a28-89bd-5c816d159908",
   "metadata": {},
   "outputs": [
    {
     "name": "stdout",
     "output_type": "stream",
     "text": [
      "0 - 1\n"
     ]
    }
   ],
   "source": [
    "a, b, *_ = range(4)\n",
    "print(f\"{a} - {b}\")"
   ]
  },
  {
   "cell_type": "code",
   "execution_count": 57,
   "id": "3b91f13b-b003-4189-8212-a36e5c486b8d",
   "metadata": {},
   "outputs": [],
   "source": [
    "metro_areas = [\n",
    "    ('Tokyo', 'JP', 36.933, (35.689722, 139.691667)),\n",
    "    ('Delhi NCR', 'IN', 21.935, (28.613889, 77.208889)),\n",
    "    ('Mexico City', 'MX', 20.142, (19.433333, -99.133333)),\n",
    "    ('New York-Newark', 'US', 20.104, (40.808611, -74.020386)),\n",
    "    ('São Paulo', 'BR', 19.649, (-23.547778, -46.635833)),\n",
    "]"
   ]
  },
  {
   "cell_type": "code",
   "execution_count": 59,
   "id": "c5b0ba2d-4db1-4f6e-8a1b-9106fd472f8f",
   "metadata": {},
   "outputs": [],
   "source": [
    "def match_lat_lon():from platform import python_version\n",
    "    print(f'{\"\":15} | {\"latitude\":>9} | {\"longitude\":>9}')\n",
    "    for name, _, _, (lat, lon) in metro_areas:\n",
    "        if lon<= 0:\n",
    "            print(f'{name:15} | {lat:9.4f} | {lon:9.4f}')"
   ]
  },
  {
   "cell_type": "code",
   "execution_count": 60,
   "id": "a662fc21-57ec-42fc-93df-8f5b4d98cc67",
   "metadata": {},
   "outputs": [
    {
     "name": "stdout",
     "output_type": "stream",
     "text": [
      "                |  latitude | longitude\n",
      "Mexico City     |   19.4333 |  -99.1333\n",
      "New York-Newark |   40.8086 |  -74.0204\n",
      "São Paulo       |  -23.5478 |  -46.6358\n"
     ]
    }
   ],
   "source": [
    "match_lat_lon()"
   ]
  },
  {
   "cell_type": "markdown",
   "id": "a2f31c9a-887f-49e2-87fc-cef7e823f9c9",
   "metadata": {},
   "source": [
    "### MATCH/CASE"
   ]
  },
  {
   "cell_type": "code",
   "execution_count": 9,
   "id": "c010581c-386f-4526-9116-c2b5e80ed284",
   "metadata": {},
   "outputs": [],
   "source": [
    "def calculate_bonus(performance: str) -> int:\n",
    "    bonus = 0\n",
    "    match performance:\n",
    "        case \"excellent\":\n",
    "            bonus = 1000\n",
    "        case \"good\":\n",
    "            bonus = 500\n",
    "        case \"poor\":\n",
    "            bonus = 0\n",
    "        case _: # default value\n",
    "            bonus = -1\n",
    "\n",
    "    return bonus"
   ]
  },
  {
   "cell_type": "code",
   "execution_count": 10,
   "id": "2b3ce610-9d99-49e6-9bdd-fa6018d11fda",
   "metadata": {},
   "outputs": [
    {
     "data": {
      "text/plain": [
       "1000"
      ]
     },
     "execution_count": 10,
     "metadata": {},
     "output_type": "execute_result"
    }
   ],
   "source": [
    "calculate_bonus(\"excellent\")"
   ]
  },
  {
   "cell_type": "code",
   "execution_count": 11,
   "id": "2ecbf170-3207-4a6e-a6b0-83696b6d324d",
   "metadata": {},
   "outputs": [
    {
     "data": {
      "text/plain": [
       "-1"
      ]
     },
     "execution_count": 11,
     "metadata": {},
     "output_type": "execute_result"
    }
   ],
   "source": [
    "calculate_bonus(\"test\")"
   ]
  },
  {
   "cell_type": "markdown",
   "id": "6ef6efc9-4ba0-4ac2-b2f7-60341e1b4803",
   "metadata": {},
   "source": [
    "### Difference between list.sort() and sorted(list)"
   ]
  },
  {
   "cell_type": "code",
   "execution_count": 16,
   "id": "bc4477f4-d367-4480-96f3-258411f92b4d",
   "metadata": {},
   "outputs": [],
   "source": [
    "fruits = [\"grape\", \"raspbarry\", \"apple\", \"banana\"]"
   ]
  },
  {
   "cell_type": "code",
   "execution_count": 17,
   "id": "85722ff7-fbef-476e-bb03-d205b1cac044",
   "metadata": {},
   "outputs": [
    {
     "data": {
      "text/plain": [
       "['apple', 'banana', 'grape', 'raspbarry']"
      ]
     },
     "execution_count": 17,
     "metadata": {},
     "output_type": "execute_result"
    }
   ],
   "source": [
    "sorted(fruits)"
   ]
  },
  {
   "cell_type": "code",
   "execution_count": 18,
   "id": "b4020fb1-e054-4ceb-8962-c129efb88c8d",
   "metadata": {},
   "outputs": [
    {
     "data": {
      "text/plain": [
       "['grape', 'raspbarry', 'apple', 'banana']"
      ]
     },
     "execution_count": 18,
     "metadata": {},
     "output_type": "execute_result"
    }
   ],
   "source": [
    "fruits"
   ]
  },
  {
   "cell_type": "code",
   "execution_count": 23,
   "id": "a0f60364-25f0-4923-aeab-7c9a9cf636d5",
   "metadata": {},
   "outputs": [
    {
     "data": {
      "text/plain": [
       "['raspbarry', 'grape', 'banana', 'apple']"
      ]
     },
     "execution_count": 23,
     "metadata": {},
     "output_type": "execute_result"
    }
   ],
   "source": [
    "sorted(fruits, reverse=True)"
   ]
  },
  {
   "cell_type": "code",
   "execution_count": 24,
   "id": "0bcfba5c-af19-49ad-b8f6-21e736cbfdce",
   "metadata": {},
   "outputs": [
    {
     "data": {
      "text/plain": [
       "['grape', 'apple', 'banana', 'raspbarry']"
      ]
     },
     "execution_count": 24,
     "metadata": {},
     "output_type": "execute_result"
    }
   ],
   "source": [
    "sorted(fruits, key=len)"
   ]
  },
  {
   "cell_type": "code",
   "execution_count": 26,
   "id": "0590f1f3-f1bb-479b-9249-b3b5ce81e4ba",
   "metadata": {},
   "outputs": [
    {
     "data": {
      "text/plain": [
       "['banana', 'apple', 'grape', 'raspbarry']"
      ]
     },
     "execution_count": 26,
     "metadata": {},
     "output_type": "execute_result"
    }
   ],
   "source": [
    "sorted(fruits, key=max)"
   ]
  },
  {
   "cell_type": "code",
   "execution_count": 28,
   "id": "231dedc1-3e33-4646-9f06-aeaec231e2b8",
   "metadata": {},
   "outputs": [
    {
     "data": {
      "text/plain": [
       "['grape', 'raspbarry', 'apple', 'banana']"
      ]
     },
     "execution_count": 28,
     "metadata": {},
     "output_type": "execute_result"
    }
   ],
   "source": [
    "sorted(fruits, key=min, reverse=True)"
   ]
  },
  {
   "cell_type": "code",
   "execution_count": 29,
   "id": "3d598192-5c55-43c4-8862-abae1e598022",
   "metadata": {},
   "outputs": [
    {
     "data": {
      "text/plain": [
       "['raspbarry', 'grape', 'banana', 'apple']"
      ]
     },
     "execution_count": 29,
     "metadata": {},
     "output_type": "execute_result"
    }
   ],
   "source": [
    "sorted(fruits, key=str.lower, reverse=True)"
   ]
  },
  {
   "cell_type": "code",
   "execution_count": 30,
   "id": "12017661-6ff4-4e08-9375-bc6c9fbc3fcc",
   "metadata": {},
   "outputs": [],
   "source": [
    "fruits.sort()"
   ]
  },
  {
   "cell_type": "code",
   "execution_count": 31,
   "id": "31bf2602-52bf-4d66-a64c-be173db25bb0",
   "metadata": {},
   "outputs": [
    {
     "data": {
      "text/plain": [
       "['apple', 'banana', 'grape', 'raspbarry']"
      ]
     },
     "execution_count": 31,
     "metadata": {},
     "output_type": "execute_result"
    }
   ],
   "source": [
    "fruits"
   ]
  },
  {
   "cell_type": "code",
   "execution_count": null,
   "id": "bf003018-4cef-418b-b1eb-bea579014d23",
   "metadata": {},
   "outputs": [],
   "source": []
  }
 ],
 "metadata": {
  "kernelspec": {
   "display_name": "py3.10",
   "language": "python",
   "name": "py3.10"
  },
  "language_info": {
   "codemirror_mode": {
    "name": "ipython",
    "version": 3
   },
   "file_extension": ".py",
   "mimetype": "text/x-python",
   "name": "python",
   "nbconvert_exporter": "python",
   "pygments_lexer": "ipython3",
   "version": "3.10.9"
  }
 },
 "nbformat": 4,
 "nbformat_minor": 5
}
